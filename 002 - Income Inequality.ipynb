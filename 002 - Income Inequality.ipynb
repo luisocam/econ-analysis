{
 "cells": [
  {
   "cell_type": "markdown",
   "metadata": {},
   "source": [
    "# Income inequality: Belgium and Colombia\n",
    "**Last edit:** May 18, 2019\n",
    "\n",
    "We study the case of Belgium and Colombia with respect income inequality. We use [this](https://www.ncbi.nlm.nih.gov/pmc/articles/PMC2652960/) article to derive the measures of income inequality.\n",
    "\n",
    "**Datsets and references:**\n",
    "- Income shares by deciles: http://iresearch.worldbank.org/PovcalNet/povOnDemand.aspx\n",
    "- Income inequality measures. (2007). *Journal of Epidemiology and Community Health, 61*(10), 849–852. http://doi.org/10.1136/jech.2006.052969"
   ]
  },
  {
   "cell_type": "markdown",
   "metadata": {},
   "source": [
    "## Import libraries"
   ]
  },
  {
   "cell_type": "code",
   "execution_count": 1,
   "metadata": {},
   "outputs": [],
   "source": [
    "%matplotlib inline\n",
    "import pandas as pd\n",
    "import numpy as np\n",
    "import matplotlib.pyplot as plt\n",
    "import seaborn as sns"
   ]
  },
  {
   "cell_type": "markdown",
   "metadata": {},
   "source": [
    "## Gini Coefficient\n",
    "We begin by importing the data and cleaning it. The data comes from the World Bank's [PovcalNet portal](http://iresearch.worldbank.org/PovcalNet/povOnDemand.aspx). The most relevant data is at the very bottom of the text file for [Belgium](http://iresearch.worldbank.org/PovcalNet/Detail.aspx?Format=Detail&C0=BEL_3&PPP0=0.879014&PL0=1.90&Y0=2015&NumOfCountries=1) and [Colombia](http://iresearch.worldbank.org/PovcalNet/Detail.aspx?Format=Detail&C0=COL_3&PPP0=1196.95&PL0=1.90&Y0=2016&NumOfCountries=1)."
   ]
  },
  {
   "cell_type": "code",
   "execution_count": 2,
   "metadata": {},
   "outputs": [],
   "source": [
    "def text_file_to_list (path):\n",
    "    '''Converts a text file into a list which is then cleaned'''\n",
    "    with open(path) as file:\n",
    "        next(file)\n",
    "        line = file.readline().split()\n",
    "        line.insert(0, 0)\n",
    "    return [float(item) for item in line]\n",
    "    \n",
    "    file.close()"
   ]
  },
  {
   "cell_type": "markdown",
   "metadata": {},
   "source": [
    "Having defined a function above that goes through the last few rows, cleans the data and then outputs a list of floats with the income share by deciles; we calculate the cumulative sum for each country."
   ]
  },
  {
   "cell_type": "code",
   "execution_count": 3,
   "metadata": {},
   "outputs": [],
   "source": [
    "bel_income_deciles = text_file_to_list('Data/002/belgium_income_distribution_2015.txt')\n",
    "col_income_deciles = text_file_to_list('Data/002/colombia_income_distribution_2016.txt')\n",
    "\n",
    "bel_cumulative_income_deciles = np.cumsum(bel_income_deciles)\n",
    "col_cumulative_income_deciles = np.cumsum(col_income_deciles)"
   ]
  },
  {
   "cell_type": "markdown",
   "metadata": {},
   "source": [
    "We create a DataFrame with the data so that it's easier to analyse and plot. Already, we can see how the tenth decile (i.e. the highest income bracket) in Colombia has a larger share of income than the same decile in Belgium."
   ]
  },
  {
   "cell_type": "code",
   "execution_count": 4,
   "metadata": {},
   "outputs": [
    {
     "data": {
      "text/html": [
       "<div>\n",
       "<style>\n",
       "    .dataframe thead tr:only-child th {\n",
       "        text-align: right;\n",
       "    }\n",
       "\n",
       "    .dataframe thead th {\n",
       "        text-align: left;\n",
       "    }\n",
       "\n",
       "    .dataframe tbody tr th {\n",
       "        vertical-align: top;\n",
       "    }\n",
       "</style>\n",
       "<table border=\"1\" class=\"dataframe\">\n",
       "  <thead>\n",
       "    <tr style=\"text-align: right;\">\n",
       "      <th></th>\n",
       "      <th>belgium_cumulative_income_%</th>\n",
       "      <th>belgium_income_%</th>\n",
       "      <th>colombia_cumulative_income_%</th>\n",
       "      <th>colombia_income_%</th>\n",
       "      <th>cumulative_household_%</th>\n",
       "    </tr>\n",
       "  </thead>\n",
       "  <tbody>\n",
       "    <tr>\n",
       "      <th>0</th>\n",
       "      <td>0.0000</td>\n",
       "      <td>0.0000</td>\n",
       "      <td>0.0000</td>\n",
       "      <td>0.0000</td>\n",
       "      <td>0</td>\n",
       "    </tr>\n",
       "    <tr>\n",
       "      <th>1</th>\n",
       "      <td>3.4350</td>\n",
       "      <td>3.4350</td>\n",
       "      <td>1.2948</td>\n",
       "      <td>1.2948</td>\n",
       "      <td>10</td>\n",
       "    </tr>\n",
       "    <tr>\n",
       "      <th>2</th>\n",
       "      <td>8.6193</td>\n",
       "      <td>5.1843</td>\n",
       "      <td>3.8604</td>\n",
       "      <td>2.5656</td>\n",
       "      <td>20</td>\n",
       "    </tr>\n",
       "    <tr>\n",
       "      <th>3</th>\n",
       "      <td>15.0998</td>\n",
       "      <td>6.4805</td>\n",
       "      <td>7.3791</td>\n",
       "      <td>3.5187</td>\n",
       "      <td>30</td>\n",
       "    </tr>\n",
       "    <tr>\n",
       "      <th>4</th>\n",
       "      <td>22.6515</td>\n",
       "      <td>7.5517</td>\n",
       "      <td>11.8747</td>\n",
       "      <td>4.4956</td>\n",
       "      <td>40</td>\n",
       "    </tr>\n",
       "    <tr>\n",
       "      <th>5</th>\n",
       "      <td>31.2179</td>\n",
       "      <td>8.5664</td>\n",
       "      <td>17.4860</td>\n",
       "      <td>5.6113</td>\n",
       "      <td>50</td>\n",
       "    </tr>\n",
       "    <tr>\n",
       "      <th>6</th>\n",
       "      <td>40.7417</td>\n",
       "      <td>9.5238</td>\n",
       "      <td>24.4411</td>\n",
       "      <td>6.9551</td>\n",
       "      <td>60</td>\n",
       "    </tr>\n",
       "    <tr>\n",
       "      <th>7</th>\n",
       "      <td>51.3937</td>\n",
       "      <td>10.6520</td>\n",
       "      <td>33.1309</td>\n",
       "      <td>8.6898</td>\n",
       "      <td>70</td>\n",
       "    </tr>\n",
       "    <tr>\n",
       "      <th>8</th>\n",
       "      <td>63.4837</td>\n",
       "      <td>12.0900</td>\n",
       "      <td>44.3029</td>\n",
       "      <td>11.1720</td>\n",
       "      <td>80</td>\n",
       "    </tr>\n",
       "    <tr>\n",
       "      <th>9</th>\n",
       "      <td>77.7977</td>\n",
       "      <td>14.3140</td>\n",
       "      <td>59.9649</td>\n",
       "      <td>15.6620</td>\n",
       "      <td>90</td>\n",
       "    </tr>\n",
       "    <tr>\n",
       "      <th>10</th>\n",
       "      <td>100.0007</td>\n",
       "      <td>22.2030</td>\n",
       "      <td>99.9999</td>\n",
       "      <td>40.0350</td>\n",
       "      <td>100</td>\n",
       "    </tr>\n",
       "  </tbody>\n",
       "</table>\n",
       "</div>"
      ],
      "text/plain": [
       "    belgium_cumulative_income_%  belgium_income_%  \\\n",
       "0                        0.0000            0.0000   \n",
       "1                        3.4350            3.4350   \n",
       "2                        8.6193            5.1843   \n",
       "3                       15.0998            6.4805   \n",
       "4                       22.6515            7.5517   \n",
       "5                       31.2179            8.5664   \n",
       "6                       40.7417            9.5238   \n",
       "7                       51.3937           10.6520   \n",
       "8                       63.4837           12.0900   \n",
       "9                       77.7977           14.3140   \n",
       "10                     100.0007           22.2030   \n",
       "\n",
       "    colombia_cumulative_income_%  colombia_income_%  cumulative_household_%  \n",
       "0                         0.0000             0.0000                       0  \n",
       "1                         1.2948             1.2948                      10  \n",
       "2                         3.8604             2.5656                      20  \n",
       "3                         7.3791             3.5187                      30  \n",
       "4                        11.8747             4.4956                      40  \n",
       "5                        17.4860             5.6113                      50  \n",
       "6                        24.4411             6.9551                      60  \n",
       "7                        33.1309             8.6898                      70  \n",
       "8                        44.3029            11.1720                      80  \n",
       "9                        59.9649            15.6620                      90  \n",
       "10                       99.9999            40.0350                     100  "
      ]
     },
     "execution_count": 4,
     "metadata": {},
     "output_type": "execute_result"
    }
   ],
   "source": [
    "income_deciles = pd.DataFrame({\n",
    "    'belgium_income_%':bel_income_deciles,\n",
    "    'colombia_income_%':col_income_deciles,\n",
    "    'belgium_cumulative_income_%': bel_cumulative_income_deciles,\n",
    "    'colombia_cumulative_income_%': col_cumulative_income_deciles,\n",
    "    'cumulative_household_%': np.arange(0,110,step=10)\n",
    "})\n",
    "\n",
    "income_deciles"
   ]
  },
  {
   "cell_type": "markdown",
   "metadata": {},
   "source": [
    "Plotting the [Lorenz Curve](https://en.wikipedia.org/wiki/Gini_coefficient) for both countries. We observe that Colombia has a higher degree of income inequality than Belgium since it is further away from the line of equality."
   ]
  },
  {
   "cell_type": "code",
   "execution_count": 5,
   "metadata": {},
   "outputs": [
    {
     "data": {
      "image/png": "[encoded data removed]",
      "text/plain": [
       "<matplotlib.figure.Figure at 0x10d3dbcc0>"
      ]
     },
     "metadata": {},
     "output_type": "display_data"
    }
   ],
   "source": [
    "plt.figure(figsize=(8,8))\n",
    "\n",
    "plt.plot(range(100), '--')\n",
    "plt.plot(income_deciles['cumulative_household_%'], income_deciles['belgium_cumulative_income_%'], '-o')\n",
    "plt.plot(income_deciles['cumulative_household_%'], income_deciles['colombia_cumulative_income_%'], '-o')\n",
    "\n",
    "plt.xlabel('Cumulative Percentage of Households')\n",
    "plt.ylabel('Cumulative Percentage of Income')\n",
    "plt.title('Income Inequality - Lorenz Curves')\n",
    "plt.legend(['Line of equality', 'Belgium - Lorenz Curve (2015)', 'Colombia - Lorenz Curve (2016)']);"
   ]
  },
  {
   "cell_type": "markdown",
   "metadata": {},
   "source": [
    "We use the following formula to [approximate](https://en.wikipedia.org/wiki/Gini_coefficient#Other_approaches) the Gini Coefficient since only values at certain intervals (deciles) are known:\n",
    "\n",
    "$$\n",
    "G = 1 - \\sum_{k=1}^{n}  = (X_k - X_{k-1})(Y_k + Y_{k-1})\n",
    "$$\n",
    "\n",
    "Where $k$ is the number of intervals known (10 in our case), $X$ is the ascending cumulative percentage of households and $Y$ is the ascending cumulative share of income by interval."
   ]
  },
  {
   "cell_type": "code",
   "execution_count": 6,
   "metadata": {},
   "outputs": [],
   "source": [
    "def gini_coefficient(cumulative_household, cumulative_income):\n",
    "    '''Calculates an approximation of the Gini coefficient given a list of income sharees by k intervals of the population'''\n",
    "    X = cumulative_household / 100\n",
    "    Y = cumulative_income / 100\n",
    "    \n",
    "    G = 1 - sum([(X[k] - X[k-1]) * (Y[k] + Y[k-1]) for k in range(1, len(cumulative_household))])\n",
    "    \n",
    "    return G"
   ]
  },
  {
   "cell_type": "markdown",
   "metadata": {},
   "source": [
    "Using the function above, we derive the Gini coefficientes for each country. We check that they are close to the ones provided by the original dataset."
   ]
  },
  {
   "cell_type": "code",
   "execution_count": 7,
   "metadata": {},
   "outputs": [
    {
     "name": "stdout",
     "output_type": "stream",
     "text": [
      "Belgium Gini Coefficient (approx.): 0.2711187\n",
      "Colombia Gini Coefficient (approx.): 0.4925305\n"
     ]
    }
   ],
   "source": [
    "bel_gini = gini_coefficient(income_deciles['cumulative_household_%'], income_deciles['belgium_cumulative_income_%'])\n",
    "col_gini = gini_coefficient(income_deciles['cumulative_household_%'], income_deciles['colombia_cumulative_income_%'])\n",
    "\n",
    "print('Belgium Gini Coefficient (approx.):', bel_gini)\n",
    "print('Colombia Gini Coefficient (approx.):', col_gini)"
   ]
  },
  {
   "cell_type": "markdown",
   "metadata": {},
   "source": [
    "**Conclusions:**\n",
    "\n",
    "- Our analysis yields an approximate Gini coefficient for Belgium of ```27.1``` and of ```49.25``` for Colombia. This evidence would indicate that Colombia is more unequal than Belgium. \n",
    "- The Lorenz Curves of each country reveal a similar finding. Although both countries lie away from the line of perfect equality, Belgium is much closer, suggesting that it has a higher level of income equality than Colombia."
   ]
  },
  {
   "cell_type": "markdown",
   "metadata": {},
   "source": [
    "## Next steps...\n",
    "As per the [article](https://www.ncbi.nlm.nih.gov/pmc/articles/PMC2652960/) mentioned in this Jupyter Notebook, the next steps would be to perform a similar analysis using different measures of inequality such as:\n",
    "- Atkinson index\n",
    "- Coefficient of variation (CV)\n",
    "- Decile ratios\n",
    "- Generalised entropy (GE) index\n",
    "- Kakwani progressivity index\n",
    "- Proportion of total income earned\n",
    "- Robin Hood index\n",
    "- Sen poverty measure\n",
    "\n",
    "Furthermore, it would be interesting to gather data on more countries and create an interactive dashboard with the findings."
   ]
  },
  {
   "cell_type": "code",
   "execution_count": null,
   "metadata": {},
   "outputs": [],
   "source": []
  }
 ],
 "metadata": {
  "kernelspec": {
   "display_name": "Python 3",
   "language": "python",
   "name": "python3"
  },
  "language_info": {
   "codemirror_mode": {
    "name": "ipython",
    "version": 3
   },
   "file_extension": ".py",
   "mimetype": "text/x-python",
   "name": "python",
   "nbconvert_exporter": "python",
   "pygments_lexer": "ipython3",
   "version": "3.6.1"
  }
 },
 "nbformat": 4,
 "nbformat_minor": 2
}
